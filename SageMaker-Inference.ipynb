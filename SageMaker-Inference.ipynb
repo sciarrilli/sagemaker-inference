{
 "cells": [
  {
   "cell_type": "markdown",
   "id": "19750b00-6093-4956-9dc2-5059c78b5fa5",
   "metadata": {},
   "source": [
    "# SageMaker Inference\n",
    "\n",
    "The purpose of this notebook is to show how API Gateway and Lambda can be setup to make an inference on a SageMaker endpoint which is hosting an XGBoost model. \n",
    "\n",
    "### Prerequisite\n",
    "This notebook requires **Lab 2** from the SageMaker Immersion day has been completed and the SageMaker endpoint is running."
   ]
  },
  {
   "cell_type": "code",
   "execution_count": 1,
   "id": "cd7f6043-b20e-4fbd-91e8-24b7e8c4befa",
   "metadata": {},
   "outputs": [],
   "source": [
    "import boto3\n",
    "import pandas as pd\n",
    "import numpy as np\n",
    "\n",
    "smr = boto3.client('sagemaker-runtime')"
   ]
  },
  {
   "cell_type": "code",
   "execution_count": 2,
   "id": "ae389252-d81c-4c49-8879-6dc26558535b",
   "metadata": {},
   "outputs": [],
   "source": [
    "import sagemaker\n",
    "#sess = sagemaker.Session(boto3.session.Session(region_name='us-west-2'))\n",
    "sess = sagemaker.Session(boto3.session.Session())"
   ]
  },
  {
   "cell_type": "code",
   "execution_count": 3,
   "id": "674beae6-fb43-4481-89ee-7411c0bce474",
   "metadata": {},
   "outputs": [
    {
     "name": "stdout",
     "output_type": "stream",
     "text": [
      "download: s3://sagemaker-us-west-2-364430515305/macbookpro/learning-sagemaker/test/test_x.csv to ../../../../../tmp/test_x.csv\n",
      "download: s3://sagemaker-us-west-2-364430515305/macbookpro/learning-sagemaker/test/test_y.csv to ../../../../../tmp/test_y.csv\n"
     ]
    }
   ],
   "source": [
    "role = 'arn:aws:iam::364430515305:role/service-role/AmazonSageMaker-ExecutionRole-20210301T212321'\n",
    "\n",
    "bucket=sess.default_bucket()\n",
    "prefix = 'macbookpro/learning-sagemaker'\n",
    "\n",
    "test_path = f\"s3://{bucket}/{prefix}/test\"\n",
    "\n",
    "!aws s3 cp $test_path/test_x.csv /tmp/test_x.csv\n",
    "!aws s3 cp $test_path/test_y.csv /tmp/test_y.csv"
   ]
  },
  {
   "cell_type": "code",
   "execution_count": 4,
   "id": "999c59b6-22ec-42e0-8add-1b69a0b3d317",
   "metadata": {},
   "outputs": [],
   "source": [
    "X_test = pd.read_csv('/tmp/test_x.csv', names=[f'{i}' for i in range(59)])\n",
    "y_test = pd.read_csv('/tmp/test_y.csv', names=['y'])\n",
    "\n",
    "pd.set_option('display.max_columns', 500)     # Make sure we can see all of the columns\n",
    "pd.set_option('display.max_rows', 20)  \n",
    "\n",
    "X_test.drop(X_test.columns[0], axis=1, inplace=True)"
   ]
  },
  {
   "cell_type": "code",
   "execution_count": 5,
   "id": "11d77ac1-041b-4db1-8229-76d87d3aa2f8",
   "metadata": {},
   "outputs": [
    {
     "data": {
      "text/html": [
       "<div>\n",
       "<style scoped>\n",
       "    .dataframe tbody tr th:only-of-type {\n",
       "        vertical-align: middle;\n",
       "    }\n",
       "\n",
       "    .dataframe tbody tr th {\n",
       "        vertical-align: top;\n",
       "    }\n",
       "\n",
       "    .dataframe thead th {\n",
       "        text-align: right;\n",
       "    }\n",
       "</style>\n",
       "<table border=\"1\" class=\"dataframe\">\n",
       "  <thead>\n",
       "    <tr style=\"text-align: right;\">\n",
       "      <th></th>\n",
       "      <th>1</th>\n",
       "      <th>2</th>\n",
       "      <th>3</th>\n",
       "      <th>4</th>\n",
       "      <th>5</th>\n",
       "      <th>6</th>\n",
       "      <th>7</th>\n",
       "      <th>8</th>\n",
       "      <th>9</th>\n",
       "      <th>10</th>\n",
       "      <th>11</th>\n",
       "      <th>12</th>\n",
       "      <th>13</th>\n",
       "      <th>14</th>\n",
       "      <th>15</th>\n",
       "      <th>16</th>\n",
       "      <th>17</th>\n",
       "      <th>18</th>\n",
       "      <th>19</th>\n",
       "      <th>20</th>\n",
       "      <th>21</th>\n",
       "      <th>22</th>\n",
       "      <th>23</th>\n",
       "      <th>24</th>\n",
       "      <th>25</th>\n",
       "      <th>26</th>\n",
       "      <th>27</th>\n",
       "      <th>28</th>\n",
       "      <th>29</th>\n",
       "      <th>30</th>\n",
       "      <th>31</th>\n",
       "      <th>32</th>\n",
       "      <th>33</th>\n",
       "      <th>34</th>\n",
       "      <th>35</th>\n",
       "      <th>36</th>\n",
       "      <th>37</th>\n",
       "      <th>38</th>\n",
       "      <th>39</th>\n",
       "      <th>40</th>\n",
       "      <th>41</th>\n",
       "      <th>42</th>\n",
       "      <th>43</th>\n",
       "      <th>44</th>\n",
       "      <th>45</th>\n",
       "      <th>46</th>\n",
       "      <th>47</th>\n",
       "      <th>48</th>\n",
       "      <th>49</th>\n",
       "      <th>50</th>\n",
       "      <th>51</th>\n",
       "      <th>52</th>\n",
       "      <th>53</th>\n",
       "      <th>54</th>\n",
       "      <th>55</th>\n",
       "      <th>56</th>\n",
       "      <th>57</th>\n",
       "      <th>58</th>\n",
       "    </tr>\n",
       "  </thead>\n",
       "  <tbody>\n",
       "    <tr>\n",
       "      <th>0</th>\n",
       "      <td>3</td>\n",
       "      <td>999</td>\n",
       "      <td>0</td>\n",
       "      <td>1</td>\n",
       "      <td>0</td>\n",
       "      <td>0</td>\n",
       "      <td>0</td>\n",
       "      <td>0</td>\n",
       "      <td>0</td>\n",
       "      <td>0</td>\n",
       "      <td>0</td>\n",
       "      <td>1</td>\n",
       "      <td>0</td>\n",
       "      <td>0</td>\n",
       "      <td>0</td>\n",
       "      <td>0</td>\n",
       "      <td>0</td>\n",
       "      <td>1</td>\n",
       "      <td>0</td>\n",
       "      <td>0</td>\n",
       "      <td>0</td>\n",
       "      <td>0</td>\n",
       "      <td>0</td>\n",
       "      <td>0</td>\n",
       "      <td>0</td>\n",
       "      <td>0</td>\n",
       "      <td>0</td>\n",
       "      <td>1</td>\n",
       "      <td>0</td>\n",
       "      <td>1</td>\n",
       "      <td>0</td>\n",
       "      <td>0</td>\n",
       "      <td>1</td>\n",
       "      <td>0</td>\n",
       "      <td>0</td>\n",
       "      <td>1</td>\n",
       "      <td>0</td>\n",
       "      <td>0</td>\n",
       "      <td>1</td>\n",
       "      <td>0</td>\n",
       "      <td>0</td>\n",
       "      <td>0</td>\n",
       "      <td>0</td>\n",
       "      <td>1</td>\n",
       "      <td>0</td>\n",
       "      <td>0</td>\n",
       "      <td>0</td>\n",
       "      <td>0</td>\n",
       "      <td>0</td>\n",
       "      <td>0</td>\n",
       "      <td>0</td>\n",
       "      <td>1</td>\n",
       "      <td>0</td>\n",
       "      <td>0</td>\n",
       "      <td>0</td>\n",
       "      <td>0</td>\n",
       "      <td>1</td>\n",
       "      <td>0</td>\n",
       "    </tr>\n",
       "    <tr>\n",
       "      <th>1</th>\n",
       "      <td>1</td>\n",
       "      <td>999</td>\n",
       "      <td>0</td>\n",
       "      <td>1</td>\n",
       "      <td>0</td>\n",
       "      <td>0</td>\n",
       "      <td>0</td>\n",
       "      <td>0</td>\n",
       "      <td>0</td>\n",
       "      <td>0</td>\n",
       "      <td>0</td>\n",
       "      <td>0</td>\n",
       "      <td>1</td>\n",
       "      <td>0</td>\n",
       "      <td>0</td>\n",
       "      <td>0</td>\n",
       "      <td>0</td>\n",
       "      <td>0</td>\n",
       "      <td>1</td>\n",
       "      <td>0</td>\n",
       "      <td>0</td>\n",
       "      <td>0</td>\n",
       "      <td>0</td>\n",
       "      <td>1</td>\n",
       "      <td>0</td>\n",
       "      <td>0</td>\n",
       "      <td>0</td>\n",
       "      <td>0</td>\n",
       "      <td>0</td>\n",
       "      <td>1</td>\n",
       "      <td>0</td>\n",
       "      <td>0</td>\n",
       "      <td>1</td>\n",
       "      <td>0</td>\n",
       "      <td>0</td>\n",
       "      <td>1</td>\n",
       "      <td>0</td>\n",
       "      <td>0</td>\n",
       "      <td>1</td>\n",
       "      <td>0</td>\n",
       "      <td>0</td>\n",
       "      <td>0</td>\n",
       "      <td>0</td>\n",
       "      <td>1</td>\n",
       "      <td>0</td>\n",
       "      <td>0</td>\n",
       "      <td>0</td>\n",
       "      <td>0</td>\n",
       "      <td>0</td>\n",
       "      <td>0</td>\n",
       "      <td>0</td>\n",
       "      <td>0</td>\n",
       "      <td>0</td>\n",
       "      <td>1</td>\n",
       "      <td>0</td>\n",
       "      <td>0</td>\n",
       "      <td>1</td>\n",
       "      <td>0</td>\n",
       "    </tr>\n",
       "    <tr>\n",
       "      <th>2</th>\n",
       "      <td>1</td>\n",
       "      <td>999</td>\n",
       "      <td>0</td>\n",
       "      <td>1</td>\n",
       "      <td>0</td>\n",
       "      <td>0</td>\n",
       "      <td>0</td>\n",
       "      <td>0</td>\n",
       "      <td>0</td>\n",
       "      <td>1</td>\n",
       "      <td>0</td>\n",
       "      <td>0</td>\n",
       "      <td>0</td>\n",
       "      <td>0</td>\n",
       "      <td>0</td>\n",
       "      <td>0</td>\n",
       "      <td>0</td>\n",
       "      <td>0</td>\n",
       "      <td>1</td>\n",
       "      <td>0</td>\n",
       "      <td>0</td>\n",
       "      <td>0</td>\n",
       "      <td>0</td>\n",
       "      <td>0</td>\n",
       "      <td>0</td>\n",
       "      <td>0</td>\n",
       "      <td>0</td>\n",
       "      <td>1</td>\n",
       "      <td>0</td>\n",
       "      <td>1</td>\n",
       "      <td>0</td>\n",
       "      <td>0</td>\n",
       "      <td>0</td>\n",
       "      <td>0</td>\n",
       "      <td>1</td>\n",
       "      <td>1</td>\n",
       "      <td>0</td>\n",
       "      <td>0</td>\n",
       "      <td>1</td>\n",
       "      <td>0</td>\n",
       "      <td>0</td>\n",
       "      <td>0</td>\n",
       "      <td>0</td>\n",
       "      <td>0</td>\n",
       "      <td>0</td>\n",
       "      <td>0</td>\n",
       "      <td>0</td>\n",
       "      <td>1</td>\n",
       "      <td>0</td>\n",
       "      <td>0</td>\n",
       "      <td>0</td>\n",
       "      <td>1</td>\n",
       "      <td>0</td>\n",
       "      <td>0</td>\n",
       "      <td>0</td>\n",
       "      <td>0</td>\n",
       "      <td>1</td>\n",
       "      <td>0</td>\n",
       "    </tr>\n",
       "    <tr>\n",
       "      <th>3</th>\n",
       "      <td>3</td>\n",
       "      <td>999</td>\n",
       "      <td>1</td>\n",
       "      <td>1</td>\n",
       "      <td>0</td>\n",
       "      <td>1</td>\n",
       "      <td>0</td>\n",
       "      <td>0</td>\n",
       "      <td>0</td>\n",
       "      <td>0</td>\n",
       "      <td>0</td>\n",
       "      <td>0</td>\n",
       "      <td>0</td>\n",
       "      <td>0</td>\n",
       "      <td>0</td>\n",
       "      <td>0</td>\n",
       "      <td>0</td>\n",
       "      <td>0</td>\n",
       "      <td>0</td>\n",
       "      <td>1</td>\n",
       "      <td>0</td>\n",
       "      <td>0</td>\n",
       "      <td>0</td>\n",
       "      <td>0</td>\n",
       "      <td>0</td>\n",
       "      <td>0</td>\n",
       "      <td>0</td>\n",
       "      <td>1</td>\n",
       "      <td>0</td>\n",
       "      <td>1</td>\n",
       "      <td>0</td>\n",
       "      <td>0</td>\n",
       "      <td>1</td>\n",
       "      <td>0</td>\n",
       "      <td>0</td>\n",
       "      <td>1</td>\n",
       "      <td>0</td>\n",
       "      <td>0</td>\n",
       "      <td>1</td>\n",
       "      <td>0</td>\n",
       "      <td>0</td>\n",
       "      <td>0</td>\n",
       "      <td>0</td>\n",
       "      <td>0</td>\n",
       "      <td>0</td>\n",
       "      <td>0</td>\n",
       "      <td>1</td>\n",
       "      <td>0</td>\n",
       "      <td>0</td>\n",
       "      <td>0</td>\n",
       "      <td>1</td>\n",
       "      <td>0</td>\n",
       "      <td>0</td>\n",
       "      <td>0</td>\n",
       "      <td>0</td>\n",
       "      <td>1</td>\n",
       "      <td>0</td>\n",
       "      <td>0</td>\n",
       "    </tr>\n",
       "    <tr>\n",
       "      <th>4</th>\n",
       "      <td>1</td>\n",
       "      <td>999</td>\n",
       "      <td>0</td>\n",
       "      <td>1</td>\n",
       "      <td>0</td>\n",
       "      <td>1</td>\n",
       "      <td>0</td>\n",
       "      <td>0</td>\n",
       "      <td>0</td>\n",
       "      <td>0</td>\n",
       "      <td>0</td>\n",
       "      <td>0</td>\n",
       "      <td>0</td>\n",
       "      <td>0</td>\n",
       "      <td>0</td>\n",
       "      <td>0</td>\n",
       "      <td>0</td>\n",
       "      <td>0</td>\n",
       "      <td>0</td>\n",
       "      <td>1</td>\n",
       "      <td>0</td>\n",
       "      <td>0</td>\n",
       "      <td>0</td>\n",
       "      <td>0</td>\n",
       "      <td>0</td>\n",
       "      <td>0</td>\n",
       "      <td>0</td>\n",
       "      <td>1</td>\n",
       "      <td>0</td>\n",
       "      <td>1</td>\n",
       "      <td>0</td>\n",
       "      <td>0</td>\n",
       "      <td>1</td>\n",
       "      <td>0</td>\n",
       "      <td>0</td>\n",
       "      <td>0</td>\n",
       "      <td>0</td>\n",
       "      <td>1</td>\n",
       "      <td>0</td>\n",
       "      <td>1</td>\n",
       "      <td>0</td>\n",
       "      <td>0</td>\n",
       "      <td>0</td>\n",
       "      <td>1</td>\n",
       "      <td>0</td>\n",
       "      <td>0</td>\n",
       "      <td>0</td>\n",
       "      <td>0</td>\n",
       "      <td>0</td>\n",
       "      <td>0</td>\n",
       "      <td>0</td>\n",
       "      <td>0</td>\n",
       "      <td>0</td>\n",
       "      <td>1</td>\n",
       "      <td>0</td>\n",
       "      <td>0</td>\n",
       "      <td>1</td>\n",
       "      <td>0</td>\n",
       "    </tr>\n",
       "  </tbody>\n",
       "</table>\n",
       "</div>"
      ],
      "text/plain": [
       "   1    2  3  4  5  6  7  8  9  10  11  12  13  14  15  16  17  18  19  20  \\\n",
       "0  3  999  0  1  0  0  0  0  0   0   0   1   0   0   0   0   0   1   0   0   \n",
       "1  1  999  0  1  0  0  0  0  0   0   0   0   1   0   0   0   0   0   1   0   \n",
       "2  1  999  0  1  0  0  0  0  0   1   0   0   0   0   0   0   0   0   1   0   \n",
       "3  3  999  1  1  0  1  0  0  0   0   0   0   0   0   0   0   0   0   0   1   \n",
       "4  1  999  0  1  0  1  0  0  0   0   0   0   0   0   0   0   0   0   0   1   \n",
       "\n",
       "   21  22  23  24  25  26  27  28  29  30  31  32  33  34  35  36  37  38  39  \\\n",
       "0   0   0   0   0   0   0   0   1   0   1   0   0   1   0   0   1   0   0   1   \n",
       "1   0   0   0   1   0   0   0   0   0   1   0   0   1   0   0   1   0   0   1   \n",
       "2   0   0   0   0   0   0   0   1   0   1   0   0   0   0   1   1   0   0   1   \n",
       "3   0   0   0   0   0   0   0   1   0   1   0   0   1   0   0   1   0   0   1   \n",
       "4   0   0   0   0   0   0   0   1   0   1   0   0   1   0   0   0   0   1   0   \n",
       "\n",
       "   40  41  42  43  44  45  46  47  48  49  50  51  52  53  54  55  56  57  58  \n",
       "0   0   0   0   0   1   0   0   0   0   0   0   0   1   0   0   0   0   1   0  \n",
       "1   0   0   0   0   1   0   0   0   0   0   0   0   0   0   1   0   0   1   0  \n",
       "2   0   0   0   0   0   0   0   0   1   0   0   0   1   0   0   0   0   1   0  \n",
       "3   0   0   0   0   0   0   0   1   0   0   0   1   0   0   0   0   1   0   0  \n",
       "4   1   0   0   0   1   0   0   0   0   0   0   0   0   0   1   0   0   1   0  "
      ]
     },
     "execution_count": 5,
     "metadata": {},
     "output_type": "execute_result"
    }
   ],
   "source": [
    "X_test.head()"
   ]
  },
  {
   "cell_type": "code",
   "execution_count": 6,
   "id": "90126b7e-3056-4152-a1fe-7605f5069229",
   "metadata": {},
   "outputs": [
    {
     "name": "stdout",
     "output_type": "stream",
     "text": [
      "endpoint name: xgboost-210924-0315-016-aaedc4f9\n"
     ]
    }
   ],
   "source": [
    "sm_client = boto3.client('sagemaker')\n",
    "endpoint = sm_client.list_endpoints(SortBy='CreationTime')['Endpoints'][0]['EndpointName']\n",
    "print(f'endpoint name: {endpoint}')\n",
    "\n",
    "def make_prediction(X_test, y_test, row, endpoint=endpoint):\n",
    "    \n",
    "    # get individual row from dataframe and format as csv string\n",
    "    sample = X_test.iloc[row].values\n",
    "    sample = np.array2string(sample, separator=',')\n",
    "    sample = sample.strip('[').strip(']').lstrip(' ')\n",
    "    sample = sample.replace('\\n', '')\n",
    "    sample.encode('utf-8')\n",
    "    \n",
    "    # create sagemaker runtime client and invoke sagemaker endpoint\n",
    "    smr = boto3.client('sagemaker-runtime')\n",
    "    r = smr.invoke_endpoint(EndpointName=endpoint, Body=sample, ContentType='text/csv')\n",
    "    prediction = r['Body'].read().decode('utf-8')\n",
    "    prediction = float(prediction)\n",
    "    \n",
    "    # round to 4 decimal places\n",
    "    prediction = round(prediction, 4)\n",
    "    return prediction"
   ]
  },
  {
   "cell_type": "markdown",
   "id": "070cc0e5-6759-4986-9c91-d4137fa54a7f",
   "metadata": {},
   "source": [
    "Make a prediction againsts the SageMaker endpoint"
   ]
  },
  {
   "cell_type": "code",
   "execution_count": 7,
   "id": "a3f51c3d-c501-4e50-b5e4-4bac3e7c0018",
   "metadata": {},
   "outputs": [
    {
     "data": {
      "text/plain": [
       "0.7026"
      ]
     },
     "execution_count": 7,
     "metadata": {},
     "output_type": "execute_result"
    }
   ],
   "source": [
    "make_prediction(X_test, y_test, 260)"
   ]
  },
  {
   "cell_type": "markdown",
   "id": "433c8aa5-e1dc-405b-a39c-d4ec54825a74",
   "metadata": {},
   "source": [
    "The label for sample 260 is a positive prediction that the customer will purchase a CD investment."
   ]
  },
  {
   "cell_type": "code",
   "execution_count": 9,
   "id": "55d24c01-ebc4-4b80-8a01-8df5fc50508f",
   "metadata": {},
   "outputs": [
    {
     "data": {
      "text/plain": [
       "array([1])"
      ]
     },
     "execution_count": 9,
     "metadata": {},
     "output_type": "execute_result"
    }
   ],
   "source": [
    "y_test.iloc[260].values"
   ]
  },
  {
   "cell_type": "markdown",
   "id": "ce44ea43-8370-46dd-9ecc-44d7602272b1",
   "metadata": {
    "tags": []
   },
   "source": [
    "## Lambda Setup"
   ]
  },
  {
   "cell_type": "code",
   "execution_count": 9,
   "id": "423d8dd3-55ce-4463-9abf-4d15a95e1402",
   "metadata": {},
   "outputs": [
    {
     "name": "stdout",
     "output_type": "stream",
     "text": [
      "Overwriting sagemaker_inference_function.py\n"
     ]
    }
   ],
   "source": [
    "%%writefile sagemaker_inference_function.py\n",
    "\n",
    "import json\n",
    "import boto3\n",
    "\n",
    "smr = boto3.client('sagemaker-runtime')\n",
    "\n",
    "def lambda_handler(event, context):\n",
    "    \n",
    "    # check event type and print event\n",
    "    print(f'event data type: {type(event)}')\n",
    "    print(event)\n",
    "    \n",
    "    # grab body and convert to dict\n",
    "    body = json.loads(event['body'])\n",
    "    \n",
    "    # encode the sample to bytes\n",
    "    data = body['data'].encode('utf-8')\n",
    "    \n",
    "    # check data types\n",
    "    print(f'body data type: {type(body)}')\n",
    "    print(body)\n",
    "\n",
    "    print(f'data data type: {type(data)}')\n",
    "    print(data)\n",
    "\n",
    "    # make prediction on sagemaker endpoint\n",
    "    r = smr.invoke_endpoint(EndpointName='xgboost-210924-0315-016-aaedc4f9', Body=data, ContentType='text/csv')\n",
    "    prediction = r['Body'].read().decode('utf-8')\n",
    "    print(prediction)\n",
    "    response = {'prediction': prediction}\n",
    "    \n",
    "    # return prediction in body\n",
    "    return {\n",
    "        'statusCode': 200,\n",
    "        'body': json.dumps(response)\n",
    "    }\n"
   ]
  },
  {
   "cell_type": "code",
   "execution_count": 10,
   "id": "1aa7ac18-4a64-4290-b5f6-424d8613a73f",
   "metadata": {},
   "outputs": [
    {
     "name": "stdout",
     "output_type": "stream",
     "text": [
      "updating: sagemaker_inference_function.py (deflated 52%)\n"
     ]
    }
   ],
   "source": [
    "!zip sm-inference-package.zip sagemaker_inference_function.py"
   ]
  },
  {
   "cell_type": "code",
   "execution_count": 11,
   "id": "b0fae96c-19d2-4517-8927-51743c6c8b72",
   "metadata": {},
   "outputs": [
    {
     "ename": "ResourceConflictException",
     "evalue": "An error occurred (ResourceConflictException) when calling the CreateFunction operation: Function already exist: sagemaker-inference-xgboost",
     "output_type": "error",
     "traceback": [
      "\u001b[0;31m---------------------------------------------------------------------------\u001b[0m",
      "\u001b[0;31mResourceConflictException\u001b[0m                 Traceback (most recent call last)",
      "\u001b[0;32m/tmp/ipykernel_1400/3661583033.py\u001b[0m in \u001b[0;36m<module>\u001b[0;34m\u001b[0m\n\u001b[1;32m     12\u001b[0m \u001b[0mFunctionName\u001b[0m \u001b[0;34m=\u001b[0m \u001b[0;34m'sagemaker-inference-xgboost'\u001b[0m\u001b[0;34m\u001b[0m\u001b[0;34m\u001b[0m\u001b[0m\n\u001b[1;32m     13\u001b[0m \u001b[0;34m\u001b[0m\u001b[0m\n\u001b[0;32m---> 14\u001b[0;31m response = lambda_client.create_function(Code={'ZipFile': aws_file()},\n\u001b[0m\u001b[1;32m     15\u001b[0m                                          \u001b[0mDescription\u001b[0m\u001b[0;34m=\u001b[0m\u001b[0;34m'Hello World Test.'\u001b[0m\u001b[0;34m,\u001b[0m\u001b[0;34m\u001b[0m\u001b[0;34m\u001b[0m\u001b[0m\n\u001b[1;32m     16\u001b[0m                                          \u001b[0mFunctionName\u001b[0m\u001b[0;34m=\u001b[0m\u001b[0mFunctionName\u001b[0m\u001b[0;34m,\u001b[0m\u001b[0;34m\u001b[0m\u001b[0;34m\u001b[0m\u001b[0m\n",
      "\u001b[0;32m/usr/local/lib/python3.9/site-packages/botocore/client.py\u001b[0m in \u001b[0;36m_api_call\u001b[0;34m(self, *args, **kwargs)\u001b[0m\n\u001b[1;32m    384\u001b[0m                     \"%s() only accepts keyword arguments.\" % py_operation_name)\n\u001b[1;32m    385\u001b[0m             \u001b[0;31m# The \"self\" in this scope is referring to the BaseClient.\u001b[0m\u001b[0;34m\u001b[0m\u001b[0;34m\u001b[0m\u001b[0m\n\u001b[0;32m--> 386\u001b[0;31m             \u001b[0;32mreturn\u001b[0m \u001b[0mself\u001b[0m\u001b[0;34m.\u001b[0m\u001b[0m_make_api_call\u001b[0m\u001b[0;34m(\u001b[0m\u001b[0moperation_name\u001b[0m\u001b[0;34m,\u001b[0m \u001b[0mkwargs\u001b[0m\u001b[0;34m)\u001b[0m\u001b[0;34m\u001b[0m\u001b[0;34m\u001b[0m\u001b[0m\n\u001b[0m\u001b[1;32m    387\u001b[0m \u001b[0;34m\u001b[0m\u001b[0m\n\u001b[1;32m    388\u001b[0m         \u001b[0m_api_call\u001b[0m\u001b[0;34m.\u001b[0m\u001b[0m__name__\u001b[0m \u001b[0;34m=\u001b[0m \u001b[0mstr\u001b[0m\u001b[0;34m(\u001b[0m\u001b[0mpy_operation_name\u001b[0m\u001b[0;34m)\u001b[0m\u001b[0;34m\u001b[0m\u001b[0;34m\u001b[0m\u001b[0m\n",
      "\u001b[0;32m/usr/local/lib/python3.9/site-packages/botocore/client.py\u001b[0m in \u001b[0;36m_make_api_call\u001b[0;34m(self, operation_name, api_params)\u001b[0m\n\u001b[1;32m    703\u001b[0m             \u001b[0merror_code\u001b[0m \u001b[0;34m=\u001b[0m \u001b[0mparsed_response\u001b[0m\u001b[0;34m.\u001b[0m\u001b[0mget\u001b[0m\u001b[0;34m(\u001b[0m\u001b[0;34m\"Error\"\u001b[0m\u001b[0;34m,\u001b[0m \u001b[0;34m{\u001b[0m\u001b[0;34m}\u001b[0m\u001b[0;34m)\u001b[0m\u001b[0;34m.\u001b[0m\u001b[0mget\u001b[0m\u001b[0;34m(\u001b[0m\u001b[0;34m\"Code\"\u001b[0m\u001b[0;34m)\u001b[0m\u001b[0;34m\u001b[0m\u001b[0;34m\u001b[0m\u001b[0m\n\u001b[1;32m    704\u001b[0m             \u001b[0merror_class\u001b[0m \u001b[0;34m=\u001b[0m \u001b[0mself\u001b[0m\u001b[0;34m.\u001b[0m\u001b[0mexceptions\u001b[0m\u001b[0;34m.\u001b[0m\u001b[0mfrom_code\u001b[0m\u001b[0;34m(\u001b[0m\u001b[0merror_code\u001b[0m\u001b[0;34m)\u001b[0m\u001b[0;34m\u001b[0m\u001b[0;34m\u001b[0m\u001b[0m\n\u001b[0;32m--> 705\u001b[0;31m             \u001b[0;32mraise\u001b[0m \u001b[0merror_class\u001b[0m\u001b[0;34m(\u001b[0m\u001b[0mparsed_response\u001b[0m\u001b[0;34m,\u001b[0m \u001b[0moperation_name\u001b[0m\u001b[0;34m)\u001b[0m\u001b[0;34m\u001b[0m\u001b[0;34m\u001b[0m\u001b[0m\n\u001b[0m\u001b[1;32m    706\u001b[0m         \u001b[0;32melse\u001b[0m\u001b[0;34m:\u001b[0m\u001b[0;34m\u001b[0m\u001b[0;34m\u001b[0m\u001b[0m\n\u001b[1;32m    707\u001b[0m             \u001b[0;32mreturn\u001b[0m \u001b[0mparsed_response\u001b[0m\u001b[0;34m\u001b[0m\u001b[0;34m\u001b[0m\u001b[0m\n",
      "\u001b[0;31mResourceConflictException\u001b[0m: An error occurred (ResourceConflictException) when calling the CreateFunction operation: Function already exist: sagemaker-inference-xgboost"
     ]
    }
   ],
   "source": [
    "lambda_client = boto3.client('lambda')\n",
    "\n",
    "ZIPNAME = \"sm-inference-package.zip\"\n",
    "\n",
    "\n",
    "def aws_file():\n",
    "    with open(ZIPNAME, 'rb') as file_data:\n",
    "        bytes_content = file_data.read()\n",
    "    return bytes_content\n",
    "\n",
    "\n",
    "FunctionName = 'sagemaker-inference-xgboost'\n",
    "\n",
    "response = lambda_client.create_function(Code={'ZipFile': aws_file()},\n",
    "                                         Description='Hello World Test.',\n",
    "                                         FunctionName=FunctionName,\n",
    "                                         Handler='sagemaker_inference_function.lambda_handler',\n",
    "                                         Publish=True,\n",
    "                                         Role='arn:aws:iam::364430515305:role/service-role/xgboost_sagemaker_inference-role-24efeipb',\n",
    "                                         Runtime='python3.9')\n",
    "response"
   ]
  },
  {
   "cell_type": "code",
   "execution_count": 11,
   "id": "654baebc-f736-4880-8d9d-fa7c3cef93e9",
   "metadata": {},
   "outputs": [],
   "source": [
    "IntegrationUri = response['FunctionArn']"
   ]
  },
  {
   "cell_type": "code",
   "execution_count": 12,
   "id": "999b8de9-0f64-4039-8b4a-896aa192d059",
   "metadata": {},
   "outputs": [
    {
     "data": {
      "text/plain": [
       "'arn:aws:lambda:us-west-2:364430515305:function:sagemaker-inference-xgboost'"
      ]
     },
     "execution_count": 12,
     "metadata": {},
     "output_type": "execute_result"
    }
   ],
   "source": [
    "IntegrationUri"
   ]
  },
  {
   "cell_type": "code",
   "execution_count": null,
   "id": "48263798-ea3b-48ac-a1c4-a5796dd9226e",
   "metadata": {},
   "outputs": [],
   "source": [
    "#IntegrationUri = response['FunctionName']\n",
    "#FunctionName = response['FunctionName']"
   ]
  },
  {
   "cell_type": "markdown",
   "id": "fb6a46d8-05b4-4753-92d7-f7162f3aaf83",
   "metadata": {},
   "source": [
    "## Lambda test event\n",
    "\n",
    "Setup a test event by copying the following json into a lambda test:\n",
    "\n",
    "```json\n",
    "{\n",
    "  \"version\": \"2.0\",\n",
    "  \"routeKey\": \"POST /predict\",\n",
    "  \"rawPath\": \"/predict\",\n",
    "  \"rawQueryString\": \"\",\n",
    "  \"headers\": {\n",
    "    \"accept\": \"*/*\",\n",
    "    \"accept-encoding\": \"gzip, deflate, br\",\n",
    "    \"cache-control\": \"no-cache\",\n",
    "    \"content-length\": \"127\",\n",
    "    \"content-type\": \"text/csv\",\n",
    "    \"host\": \"8fpcmkyo88.execute-api.us-west-2.amazonaws.com\",\n",
    "    \"postman-token\": \"2c03b0e2-3f21-434b-879d-c7a7d7ff7633\",\n",
    "    \"user-agent\": \"PostmanRuntime/7.28.4\",\n",
    "    \"x-amzn-trace-id\": \"Root=1-614e5cb1-59e2e394227dfc3213740435\",\n",
    "    \"x-forwarded-for\": \"54.86.50.139\",\n",
    "    \"x-forwarded-port\": \"443\",\n",
    "    \"x-forwarded-proto\": \"https\"\n",
    "  },\n",
    "  \"requestContext\": {\n",
    "    \"accountId\": \"364430515305\",\n",
    "    \"apiId\": \"8fpcmkyo88\",\n",
    "    \"domainName\": \"8fpcmkyo88.execute-api.us-west-2.amazonaws.com\",\n",
    "    \"domainPrefix\": \"8fpcmkyo88\",\n",
    "    \"http\": {\n",
    "      \"method\": \"POST\",\n",
    "      \"path\": \"/predict\",\n",
    "      \"protocol\": \"HTTP/1.1\",\n",
    "      \"sourceIp\": \"54.86.50.139\",\n",
    "      \"userAgent\": \"PostmanRuntime/7.28.4\"\n",
    "    },\n",
    "    \"requestId\": \"GMNryjUfvHcEMjA=\",\n",
    "    \"routeKey\": \"POST /predict\",\n",
    "    \"stage\": \"$default\",\n",
    "    \"time\": \"24/Sep/2021:23:18:09 +0000\",\n",
    "    \"timeEpoch\": 1632525489647\n",
    "  },\n",
    "  \"body\": \"{\\\"data\\\": \\\"3,3,3,0,0,0,0,0,0,1,0,0,0,0,0,0,0,0,1,0,0,0,0,0,0,0,0,1,0,1,0,0,0,0,1,1,0,0,1,0,0,0,0,0,0,0,1,0,0,0,1,0,0,0,0,0,0,1\\\"}\",\n",
    "  \"isBase64Encoded\": false\n",
    "}\n",
    "```"
   ]
  },
  {
   "cell_type": "markdown",
   "id": "1dbeb917-89fe-4bc8-bacd-af530a3498cc",
   "metadata": {
    "tags": []
   },
   "source": [
    "# Create API Gateway"
   ]
  },
  {
   "cell_type": "code",
   "execution_count": 13,
   "id": "77311900-ce53-461e-a162-7759a435b4aa",
   "metadata": {},
   "outputs": [],
   "source": [
    "def create_apigateway(Name='sagemaker-inference-xgboost', IntegrationUri=IntegrationUri):\n",
    "    api_client = boto3.client('apigatewayv2')\n",
    "    response = api_client.create_api(Name=Name, ProtocolType='HTTP')\n",
    "    ApiEndpoint = response['ApiEndpoint']\n",
    "    ApiId = response['ApiId']\n",
    "    response = api_client.create_integration(ApiId=ApiId, \n",
    "                                         IntegrationType='AWS_PROXY', \n",
    "                                         IntegrationUri=IntegrationUri,\n",
    "                                         PayloadFormatVersion='2.0')\n",
    "    Target = response['IntegrationId']\n",
    "    IntegrationId = response['IntegrationId']\n",
    "    response = api_client.create_route(ApiId=ApiId, RouteKey='POST /predict', Target='integrations/'+Target)\n",
    "    RouteKey = response['RouteKey'].split()[1]\n",
    "    response = api_client.create_stage(ApiId=ApiId, StageName='v1')\n",
    "    StageName = response['StageName']\n",
    "    response = api_client.get_integration(ApiId=ApiId, IntegrationId=IntegrationId)\n",
    "    SourceArn = 'arn:aws:execute-api:us-west-2:364430515305:' + ApiId + '/*/*/predict'\n",
    "    lambda_client = boto3.client('lambda')\n",
    "    response = lambda_client.add_permission(FunctionName=FunctionName, \n",
    "                                            StatementId='1',\n",
    "                                            Action='lambda:InvokeFunction',\n",
    "                                            Principal='apigateway.amazonaws.com',\n",
    "                                            SourceArn=SourceArn)\n",
    "    response = api_client.create_deployment(ApiId=ApiId, StageName=StageName)\n",
    "    url = ApiEndpoint + '/' + StageName + RouteKey\n",
    "    return url"
   ]
  },
  {
   "cell_type": "code",
   "execution_count": 14,
   "id": "f3b90769-9466-49af-bb53-5925978c095a",
   "metadata": {},
   "outputs": [
    {
     "data": {
      "text/plain": [
       "'https://n2lxrl5pni.execute-api.us-west-2.amazonaws.com/v1/predict'"
      ]
     },
     "execution_count": 14,
     "metadata": {},
     "output_type": "execute_result"
    }
   ],
   "source": [
    "url = create_apigateway()\n",
    "url"
   ]
  },
  {
   "cell_type": "code",
   "execution_count": 15,
   "id": "614cd8ba-9912-46d2-bde0-35e5625bbf22",
   "metadata": {},
   "outputs": [],
   "source": [
    "# Helper function to get a single row from test dataframe\n",
    "def get_sample(X_test, row):\n",
    "    sample = X_test.iloc[row].values\n",
    "    sample = np.array2string(sample, separator=',')\n",
    "    sample = sample.strip('[').strip(']').lstrip(' ')\n",
    "    sample = sample.replace('\\n', '')\n",
    "    sample = sample.replace(' ', '')\n",
    "    return sample"
   ]
  },
  {
   "cell_type": "markdown",
   "id": "d2cacd61-63fa-437b-ad07-0dab08da7428",
   "metadata": {},
   "source": [
    "## Make Inference with POST request to API Gateway and Lambda"
   ]
  },
  {
   "cell_type": "code",
   "execution_count": 18,
   "id": "830c545d-8adf-466a-bc9b-4ddaef5b03b3",
   "metadata": {},
   "outputs": [
    {
     "name": "stdout",
     "output_type": "stream",
     "text": [
      "{'data': '3,3,3,0,0,0,0,0,0,1,0,0,0,0,0,0,0,0,1,0,0,0,0,0,0,0,0,1,0,1,0,0,0,0,1,1,0,0,1,0,0,0,0,0,0,0,1,0,0,0,1,0,0,0,0,0,0,1'}\n"
     ]
    },
    {
     "data": {
      "text/plain": [
       "'{\"prediction\": \"0.7025916576385498\"}'"
      ]
     },
     "execution_count": 18,
     "metadata": {},
     "output_type": "execute_result"
    }
   ],
   "source": [
    "import requests\n",
    "\n",
    "payload = {'data': get_sample(X_test, 260)}\n",
    "print(payload)\n",
    "\n",
    "r = requests.post(url, json=payload)\n",
    "r.text"
   ]
  },
  {
   "cell_type": "markdown",
   "id": "b1ecbb4e-38a0-41cf-9f55-5911738d3793",
   "metadata": {},
   "source": [
    "## Flask"
   ]
  },
  {
   "cell_type": "code",
   "execution_count": 22,
   "id": "1d0fb421-aec7-406c-93d1-ffa7e7c6a658",
   "metadata": {},
   "outputs": [],
   "source": [
    "#%pip install flask"
   ]
  },
  {
   "cell_type": "code",
   "execution_count": 24,
   "id": "3ac4d83c-2c75-4b36-a9d8-c5cda3307376",
   "metadata": {},
   "outputs": [
    {
     "name": "stdout",
     "output_type": "stream",
     "text": [
      " * Serving Flask app '__main__' (lazy loading)\n",
      " * Environment: production\n",
      "\u001b[31m   WARNING: This is a development server. Do not use it in a production deployment.\u001b[0m\n",
      "\u001b[2m   Use a production WSGI server instead.\u001b[0m\n",
      " * Debug mode: off\n"
     ]
    },
    {
     "name": "stderr",
     "output_type": "stream",
     "text": [
      " * Running on http://127.0.0.1:5000/ (Press CTRL+C to quit)\n"
     ]
    }
   ],
   "source": [
    "# from flask import Flask\n",
    "# from flask import request, jsonify\n",
    "# import boto3\n",
    "\n",
    "# app = Flask(__name__)\n",
    "\n",
    "# smr = boto3.client('sagemaker-runtime')\n",
    "\n",
    "# @app.route('/pred', methods = ['POST'])\n",
    "# def predict():\n",
    "#     # make prediction on sagemaker endpoint\n",
    "#     body = request.get_json()\n",
    "#     print(type(body))\n",
    "#     print(body)\n",
    "#     data = body['data']\n",
    "#     r = smr.invoke_endpoint(EndpointName='xgboost-210924-0315-016-aaedc4f9', Body=data, ContentType='text/csv')\n",
    "#     prediction = r['Body'].read().decode('utf-8')\n",
    "#     print(prediction)\n",
    "#     response = {'prediction': prediction}\n",
    "#     return jsonify(response)\n",
    "\n",
    "# app.run()"
   ]
  },
  {
   "cell_type": "code",
   "execution_count": null,
   "id": "e7bc5e47-da0c-4556-abfb-fbb04454411b",
   "metadata": {},
   "outputs": [],
   "source": [
    "# curl --location --request POST 'http://localhost:5000/pred' \\\n",
    "#                          --header 'Content-Type: application/json' \\\n",
    "#                          --data-raw '{\n",
    "#                          \"data\": \"3,3,3,0,0,0,0,0,0,1,0,0,0,0,0,0,0,0,1,0,0,0,0,0,0,0,0,1,0,1,0,0,0,0,1,1,0,0,1,0,0,0,0,0,0,0,1,0,0,0,1,0,0,0,0,0,0,1\"\n",
    "#                      }'"
   ]
  },
  {
   "cell_type": "markdown",
   "id": "f2c5339d-1f6a-4808-821c-2d2b0a82b341",
   "metadata": {},
   "source": [
    "#### Launch EC2 instance"
   ]
  },
  {
   "cell_type": "code",
   "execution_count": 30,
   "id": "0b12a15f-5b1f-4c2d-a304-bf7a34047326",
   "metadata": {},
   "outputs": [],
   "source": [
    "ec2_client = boto3.client('ec2')"
   ]
  },
  {
   "cell_type": "markdown",
   "id": "6f979252-2dbc-40d4-90d3-92ad0ad35d2d",
   "metadata": {},
   "source": [
    "#### Need to create security group to allow port 5000"
   ]
  },
  {
   "cell_type": "code",
   "execution_count": 60,
   "id": "4a48bf06-53db-4a75-8667-a7b20b229e22",
   "metadata": {},
   "outputs": [],
   "source": [
    "user_data = '''#!/bin/bash\n",
    "echo 'test' > /tmp/hello\n",
    "yum update -y\n",
    "yum install python3 python3-pip tmux htop -y\n",
    "pip3 install flask boto3\n",
    "wget https://raw.githubusercontent.com/sciarrilli/flask-sagemaker-inference/main/flask-app.py\n",
    "\n",
    "tmux new-session -d -s flask-session\n",
    "tmux send-keys 'python3 flask-app.py' C-m\n",
    "tmux detach -s flask-session'''"
   ]
  },
  {
   "cell_type": "code",
   "execution_count": 62,
   "id": "018f6d25-7f2a-4a54-9505-c7b03e3acc98",
   "metadata": {},
   "outputs": [],
   "source": [
    "instances = ec2_client.run_instances(\n",
    "    ImageId=\"ami-0c2d06d50ce30b442\",\n",
    "    MinCount=1,\n",
    "    MaxCount=1,\n",
    "    InstanceType=\"t3.small\",\n",
    "    KeyName='macos_2020',\n",
    "    UserData=user_data,\n",
    "    IamInstanceProfile={\n",
    "        'Name': 'EC2-SageMaker-Inference'\n",
    "    },\n",
    "    TagSpecifications=[\n",
    "    {\n",
    "        'ResourceType': 'instance',\n",
    "        'Tags': [\n",
    "            {\n",
    "                'Key': 'Name',\n",
    "                'Value': 'flask-sagemaker-inference'\n",
    "            },\n",
    "        ]\n",
    "    },\n",
    "])\n",
    "\n",
    "InstanceId = instances['Instances'][0]['InstanceId']\n",
    "\n"
   ]
  },
  {
   "cell_type": "code",
   "execution_count": 67,
   "id": "7e8517d8-97b8-4fc5-84b5-2fe83c6a3a32",
   "metadata": {},
   "outputs": [],
   "source": [
    "response = ec2_client.describe_instances(\n",
    "    InstanceIds=[\n",
    "        InstanceId,\n",
    "    ]\n",
    ")"
   ]
  },
  {
   "cell_type": "code",
   "execution_count": 68,
   "id": "080674dc-714b-4741-8f97-c4eea04ea004",
   "metadata": {},
   "outputs": [
    {
     "data": {
      "text/plain": [
       "'18.237.13.241'"
      ]
     },
     "execution_count": 68,
     "metadata": {},
     "output_type": "execute_result"
    }
   ],
   "source": [
    "response['Reservations'][0]['Instances'][0]['PublicIpAddress']"
   ]
  },
  {
   "cell_type": "markdown",
   "id": "1f46c3e3-da81-4813-805a-a83485338281",
   "metadata": {},
   "source": [
    "#### Need to add IP address as a bash variable for curl command"
   ]
  },
  {
   "cell_type": "code",
   "execution_count": 72,
   "id": "c3fc2ce4-cdee-4785-923a-41e2383689b6",
   "metadata": {},
   "outputs": [
    {
     "name": "stdout",
     "output_type": "stream",
     "text": [
      "{\n",
      "  \"prediction\": \"0.7025916576385498\"\n",
      "}\n"
     ]
    }
   ],
   "source": [
    "%%bash\n",
    "curl -s --location --request POST 'http://18.237.13.241:5000/pred' \\\n",
    "--header 'Content-Type: application/json' \\\n",
    "--data-raw '{\"data\": \"3,3,3,0,0,0,0,0,0,1,0,0,0,0,0,0,0,0,1,0,0,0,0,0,0,0,0,1,0,1,0,0,0,0,1,1,0,0,1,0,0,0,0,0,0,0,1,0,0,0,1,0,0,0,0,0,0,1\"}'"
   ]
  },
  {
   "cell_type": "code",
   "execution_count": null,
   "id": "2957f35a-f78a-46cc-9731-eb005604a5e9",
   "metadata": {},
   "outputs": [],
   "source": []
  },
  {
   "cell_type": "markdown",
   "id": "2fa38e04-211a-4ab6-9ce7-849109f87f03",
   "metadata": {},
   "source": [
    "# Appendix"
   ]
  },
  {
   "cell_type": "markdown",
   "id": "cd4ee4c6-0970-4bba-b186-30d30f19e8c0",
   "metadata": {},
   "source": [
    "## API Gateway Setup"
   ]
  },
  {
   "cell_type": "code",
   "execution_count": 106,
   "id": "c4d86fab-0218-4526-9d05-f80c6878937b",
   "metadata": {},
   "outputs": [],
   "source": [
    "api_client = boto3.client('apigatewayv2')"
   ]
  },
  {
   "cell_type": "code",
   "execution_count": 107,
   "id": "6a9d1c9d-32f5-4377-867b-3fe5c66c1922",
   "metadata": {},
   "outputs": [
    {
     "data": {
      "text/plain": [
       "{'ResponseMetadata': {'RequestId': '3cbfa6ce-b52c-406f-b9b8-440b4d0cbfe9',\n",
       "  'HTTPStatusCode': 201,\n",
       "  'HTTPHeaders': {'date': 'Sat, 25 Sep 2021 01:09:23 GMT',\n",
       "   'content-type': 'application/json',\n",
       "   'content-length': '326',\n",
       "   'connection': 'keep-alive',\n",
       "   'x-amzn-requestid': '3cbfa6ce-b52c-406f-b9b8-440b4d0cbfe9',\n",
       "   'access-control-allow-origin': '*',\n",
       "   'x-amz-apigw-id': 'GMd-mF1zvHcFg5Q=',\n",
       "   'access-control-expose-headers': 'x-amzn-RequestId,x-amzn-ErrorType,x-amzn-ErrorMessage,Date',\n",
       "   'x-amzn-trace-id': 'Root=1-614e76c3-656eae703fa4882858738a51'},\n",
       "  'RetryAttempts': 0},\n",
       " 'ApiEndpoint': 'https://6raxaoa7bd.execute-api.us-west-2.amazonaws.com',\n",
       " 'ApiId': '6raxaoa7bd',\n",
       " 'ApiKeySelectionExpression': '$request.header.x-api-key',\n",
       " 'CreatedDate': datetime.datetime(2021, 9, 25, 1, 9, 23, tzinfo=tzlocal()),\n",
       " 'DisableExecuteApiEndpoint': False,\n",
       " 'Name': 'sagemaker-apigw',\n",
       " 'ProtocolType': 'HTTP',\n",
       " 'RouteSelectionExpression': '$request.method $request.path'}"
      ]
     },
     "execution_count": 107,
     "metadata": {},
     "output_type": "execute_result"
    }
   ],
   "source": [
    "response = api_client.create_api(Name='sagemaker-apigw', ProtocolType='HTTP')\n",
    "response"
   ]
  },
  {
   "cell_type": "code",
   "execution_count": 108,
   "id": "06718b72-5818-4d1e-87f1-9e9e4e697b25",
   "metadata": {},
   "outputs": [],
   "source": [
    "ApiEndpoint = response['ApiEndpoint']\n",
    "ApiId = response['ApiId']"
   ]
  },
  {
   "cell_type": "code",
   "execution_count": 109,
   "id": "ad9fb6bf-aca1-4691-bc84-6a1aba38db83",
   "metadata": {},
   "outputs": [],
   "source": [
    "#\n",
    "#\n",
    "#\n",
    "#\n",
    "#\n",
    "# NEED TO COMMENT OUT\n",
    "#\n",
    "#\n",
    "#\n",
    "#\n",
    "IntegrationUri = 'arn:aws:lambda:us-west-2:364430515305:function:sagemaker-inference-test'"
   ]
  },
  {
   "cell_type": "code",
   "execution_count": 110,
   "id": "67360d78-92eb-4573-a60e-dcedd5c1cd70",
   "metadata": {},
   "outputs": [
    {
     "data": {
      "text/plain": [
       "{'ResponseMetadata': {'RequestId': '1c10820a-d605-4a40-8d53-b20f530e2645',\n",
       "  'HTTPStatusCode': 201,\n",
       "  'HTTPHeaders': {'date': 'Sat, 25 Sep 2021 01:09:30 GMT',\n",
       "   'content-type': 'application/json',\n",
       "   'content-length': '256',\n",
       "   'connection': 'keep-alive',\n",
       "   'x-amzn-requestid': '1c10820a-d605-4a40-8d53-b20f530e2645',\n",
       "   'access-control-allow-origin': '*',\n",
       "   'x-amz-apigw-id': 'GMd_nGr0vHcFowg=',\n",
       "   'access-control-expose-headers': 'x-amzn-RequestId,x-amzn-ErrorType,x-amzn-ErrorMessage,Date',\n",
       "   'x-amzn-trace-id': 'Root=1-614e76ca-7af1a157696e798d310db7bc'},\n",
       "  'RetryAttempts': 0},\n",
       " 'ConnectionType': 'INTERNET',\n",
       " 'IntegrationId': '2mc2y17',\n",
       " 'IntegrationMethod': 'POST',\n",
       " 'IntegrationType': 'AWS_PROXY',\n",
       " 'IntegrationUri': 'arn:aws:lambda:us-west-2:364430515305:function:sagemaker-inference-test',\n",
       " 'PayloadFormatVersion': '2.0',\n",
       " 'TimeoutInMillis': 30000}"
      ]
     },
     "execution_count": 110,
     "metadata": {},
     "output_type": "execute_result"
    }
   ],
   "source": [
    "response = api_client.create_integration(ApiId=ApiId, \n",
    "                                         IntegrationType='AWS_PROXY', \n",
    "                                         IntegrationUri=IntegrationUri,\n",
    "                                         PayloadFormatVersion='2.0')\n",
    "response"
   ]
  },
  {
   "cell_type": "code",
   "execution_count": 111,
   "id": "2ce8b0f1-07bb-45dc-a810-7a63bb74fb7a",
   "metadata": {},
   "outputs": [],
   "source": [
    "Target = response['IntegrationId']\n",
    "IntegrationId = response['IntegrationId']"
   ]
  },
  {
   "cell_type": "code",
   "execution_count": 112,
   "id": "c5dae4dc-50e1-4397-917f-0c80ca594026",
   "metadata": {},
   "outputs": [
    {
     "data": {
      "text/plain": [
       "{'ResponseMetadata': {'RequestId': '338d1a0d-f599-4ec1-97d1-e03d79ec88f4',\n",
       "  'HTTPStatusCode': 201,\n",
       "  'HTTPHeaders': {'date': 'Sat, 25 Sep 2021 01:09:34 GMT',\n",
       "   'content-type': 'application/json',\n",
       "   'content-length': '130',\n",
       "   'connection': 'keep-alive',\n",
       "   'x-amzn-requestid': '338d1a0d-f599-4ec1-97d1-e03d79ec88f4',\n",
       "   'access-control-allow-origin': '*',\n",
       "   'x-amz-apigw-id': 'GMeAQGYRPHcF7qg=',\n",
       "   'access-control-expose-headers': 'x-amzn-RequestId,x-amzn-ErrorType,x-amzn-ErrorMessage,Date',\n",
       "   'x-amzn-trace-id': 'Root=1-614e76ce-095e31e2409cc6207167b29c'},\n",
       "  'RetryAttempts': 0},\n",
       " 'ApiKeyRequired': False,\n",
       " 'AuthorizationType': 'NONE',\n",
       " 'RouteId': 'yl6n1t5',\n",
       " 'RouteKey': 'POST /predict',\n",
       " 'Target': 'integrations/2mc2y17'}"
      ]
     },
     "execution_count": 112,
     "metadata": {},
     "output_type": "execute_result"
    }
   ],
   "source": [
    "response = api_client.create_route(ApiId=ApiId, RouteKey='POST /predict', Target='integrations/'+Target)\n",
    "response"
   ]
  },
  {
   "cell_type": "code",
   "execution_count": 113,
   "id": "195cb352-29b1-463b-a9df-383c9b722399",
   "metadata": {},
   "outputs": [],
   "source": [
    "RouteKey = response['RouteKey'].split()[1]"
   ]
  },
  {
   "cell_type": "code",
   "execution_count": 114,
   "id": "c488a3c2-6178-4aa6-bc91-a7b604fa7eed",
   "metadata": {},
   "outputs": [
    {
     "data": {
      "text/plain": [
       "{'ResponseMetadata': {'RequestId': '5f2e5e45-ca1e-4b17-87a4-ef7ea4508774',\n",
       "  'HTTPStatusCode': 201,\n",
       "  'HTTPHeaders': {'date': 'Sat, 25 Sep 2021 01:09:38 GMT',\n",
       "   'content-type': 'application/json',\n",
       "   'content-length': '250',\n",
       "   'connection': 'keep-alive',\n",
       "   'x-amzn-requestid': '5f2e5e45-ca1e-4b17-87a4-ef7ea4508774',\n",
       "   'access-control-allow-origin': '*',\n",
       "   'x-amz-apigw-id': 'GMeA7GZEPHcF-EA=',\n",
       "   'access-control-expose-headers': 'x-amzn-RequestId,x-amzn-ErrorType,x-amzn-ErrorMessage,Date',\n",
       "   'x-amzn-trace-id': 'Root=1-614e76d2-0f132a7f10e0f5cf33d8934c'},\n",
       "  'RetryAttempts': 0},\n",
       " 'CreatedDate': datetime.datetime(2021, 9, 25, 1, 9, 38, tzinfo=tzlocal()),\n",
       " 'DefaultRouteSettings': {'DetailedMetricsEnabled': False},\n",
       " 'LastUpdatedDate': datetime.datetime(2021, 9, 25, 1, 9, 38, tzinfo=tzlocal()),\n",
       " 'RouteSettings': {},\n",
       " 'StageName': 'v1',\n",
       " 'StageVariables': {},\n",
       " 'Tags': {}}"
      ]
     },
     "execution_count": 114,
     "metadata": {},
     "output_type": "execute_result"
    }
   ],
   "source": [
    "response = api_client.create_stage(ApiId=ApiId, StageName='v1')\n",
    "response"
   ]
  },
  {
   "cell_type": "code",
   "execution_count": 115,
   "id": "9e13d7ec-9b50-4f59-8ad1-4705dff8efc1",
   "metadata": {},
   "outputs": [],
   "source": [
    "#ApiEndpoint = 'https://fuyk7jxq9e.execute-api.us-west-2.amazonaws.com'\n",
    "StageName = response['StageName']\n",
    "#RouteKey = '/predict'"
   ]
  },
  {
   "cell_type": "code",
   "execution_count": 119,
   "id": "c76ebdd5-42a1-4409-a39a-f364b0f0c27c",
   "metadata": {},
   "outputs": [
    {
     "data": {
      "text/plain": [
       "{'ResponseMetadata': {'RequestId': '4f747534-263b-43fe-bdb4-b8cd5f875fd4',\n",
       "  'HTTPStatusCode': 200,\n",
       "  'HTTPHeaders': {'date': 'Sat, 25 Sep 2021 01:09:46 GMT',\n",
       "   'content-type': 'application/json',\n",
       "   'content-length': '256',\n",
       "   'connection': 'keep-alive',\n",
       "   'x-amzn-requestid': '4f747534-263b-43fe-bdb4-b8cd5f875fd4',\n",
       "   'access-control-allow-origin': '*',\n",
       "   'x-amz-apigw-id': 'GMeCLGpjPHcF6vg=',\n",
       "   'access-control-expose-headers': 'x-amzn-RequestId,x-amzn-ErrorType,x-amzn-ErrorMessage,Date',\n",
       "   'x-amzn-trace-id': 'Root=1-614e76da-1951ccb33ccd17926aaa3784'},\n",
       "  'RetryAttempts': 0},\n",
       " 'ConnectionType': 'INTERNET',\n",
       " 'IntegrationId': '2mc2y17',\n",
       " 'IntegrationMethod': 'POST',\n",
       " 'IntegrationType': 'AWS_PROXY',\n",
       " 'IntegrationUri': 'arn:aws:lambda:us-west-2:364430515305:function:sagemaker-inference-test',\n",
       " 'PayloadFormatVersion': '2.0',\n",
       " 'TimeoutInMillis': 30000}"
      ]
     },
     "execution_count": 119,
     "metadata": {},
     "output_type": "execute_result"
    }
   ],
   "source": [
    "response = api_client.get_integration(ApiId=ApiId, IntegrationId=IntegrationId)\n",
    "response"
   ]
  },
  {
   "cell_type": "code",
   "execution_count": 120,
   "id": "9b01dd02-54ae-4adf-962e-4da1b3c85b44",
   "metadata": {},
   "outputs": [
    {
     "data": {
      "text/plain": [
       "'6raxaoa7bd'"
      ]
     },
     "execution_count": 120,
     "metadata": {},
     "output_type": "execute_result"
    }
   ],
   "source": [
    "ApiId"
   ]
  },
  {
   "cell_type": "code",
   "execution_count": 121,
   "id": "c0fdea57-a03a-452c-85ca-1adfd23355f4",
   "metadata": {},
   "outputs": [],
   "source": [
    "SourceArn = 'arn:aws:execute-api:us-west-2:364430515305:' + ApiId + '/*/*/predict'"
   ]
  },
  {
   "cell_type": "code",
   "execution_count": 122,
   "id": "e9b25fc3-dcd3-474d-9b09-c3b0f03b138f",
   "metadata": {},
   "outputs": [
    {
     "data": {
      "text/plain": [
       "'arn:aws:execute-api:us-west-2:364430515305:6raxaoa7bd/*/*/predict'"
      ]
     },
     "execution_count": 122,
     "metadata": {},
     "output_type": "execute_result"
    }
   ],
   "source": [
    "SourceArn"
   ]
  },
  {
   "cell_type": "code",
   "execution_count": 125,
   "id": "82e754ad-ac26-4812-a980-dde824e47dcb",
   "metadata": {},
   "outputs": [],
   "source": [
    "#\n",
    "#\n",
    "#\n",
    "#\n",
    "#  Delete\n",
    "#\n",
    "#\n",
    "#\n",
    "#\n",
    "FunctionName = 'sagemaker-inference-test'"
   ]
  },
  {
   "cell_type": "code",
   "execution_count": 126,
   "id": "1c7bae07-aa55-4223-8db0-c03b53591858",
   "metadata": {},
   "outputs": [],
   "source": [
    "lambda_client = boto3.client('lambda')\n",
    "\n",
    "response = lambda_client.add_permission(FunctionName=FunctionName, \n",
    "                                        StatementId='1',\n",
    "                                        Action='lambda:InvokeFunction',\n",
    "                                        Principal='apigateway.amazonaws.com',\n",
    "                                        SourceArn=SourceArn)"
   ]
  },
  {
   "cell_type": "code",
   "execution_count": 127,
   "id": "f5911be4-dddb-4af6-acfe-2984df84d1f9",
   "metadata": {},
   "outputs": [
    {
     "data": {
      "text/plain": [
       "{'ResponseMetadata': {'RequestId': '8810eb9d-05f5-4383-9ef3-40e22977405c',\n",
       "  'HTTPStatusCode': 201,\n",
       "  'HTTPHeaders': {'date': 'Sat, 25 Sep 2021 01:22:25 GMT',\n",
       "   'content-type': 'application/json',\n",
       "   'content-length': '353',\n",
       "   'connection': 'keep-alive',\n",
       "   'x-amzn-requestid': '8810eb9d-05f5-4383-9ef3-40e22977405c'},\n",
       "  'RetryAttempts': 0},\n",
       " 'Statement': '{\"Sid\":\"1\",\"Effect\":\"Allow\",\"Principal\":{\"Service\":\"apigateway.amazonaws.com\"},\"Action\":\"lambda:InvokeFunction\",\"Resource\":\"arn:aws:lambda:us-west-2:364430515305:function:sagemaker-inference-test\",\"Condition\":{\"ArnLike\":{\"AWS:SourceArn\":\"arn:aws:execute-api:us-west-2:364430515305:6raxaoa7bd/*/*/predict\"}}}'}"
      ]
     },
     "execution_count": 127,
     "metadata": {},
     "output_type": "execute_result"
    }
   ],
   "source": [
    "response"
   ]
  },
  {
   "cell_type": "code",
   "execution_count": 131,
   "id": "63f6141b-0465-4924-ab3a-bc3625d05f9c",
   "metadata": {},
   "outputs": [
    {
     "data": {
      "text/plain": [
       "{'ResponseMetadata': {'RequestId': '8c9514b0-0120-491f-bd6a-61f9ae9fb578',\n",
       "  'HTTPStatusCode': 201,\n",
       "  'HTTPHeaders': {'date': 'Sat, 25 Sep 2021 01:24:44 GMT',\n",
       "   'content-type': 'application/json',\n",
       "   'content-length': '113',\n",
       "   'connection': 'keep-alive',\n",
       "   'x-amzn-requestid': '8c9514b0-0120-491f-bd6a-61f9ae9fb578',\n",
       "   'access-control-allow-origin': '*',\n",
       "   'x-amz-apigw-id': 'GMgOWFJXPHcFsiA=',\n",
       "   'access-control-expose-headers': 'x-amzn-RequestId,x-amzn-ErrorType,x-amzn-ErrorMessage,Date',\n",
       "   'x-amzn-trace-id': 'Root=1-614e7a5b-6ca9e6250b7b8dd75a5a81f8'},\n",
       "  'RetryAttempts': 0},\n",
       " 'AutoDeployed': False,\n",
       " 'CreatedDate': datetime.datetime(2021, 9, 25, 1, 24, 43, tzinfo=tzlocal()),\n",
       " 'DeploymentId': 'ibs3gb',\n",
       " 'DeploymentStatus': 'DEPLOYED'}"
      ]
     },
     "execution_count": 131,
     "metadata": {},
     "output_type": "execute_result"
    }
   ],
   "source": [
    "response = api_client.create_deployment(ApiId=ApiId, StageName=StageName)\n",
    "response"
   ]
  },
  {
   "cell_type": "code",
   "execution_count": 105,
   "id": "5d5c3e23-6bde-4f99-93b1-5d8275b4d6e0",
   "metadata": {},
   "outputs": [
    {
     "name": "stdout",
     "output_type": "stream",
     "text": [
      "{\n",
      "    \"Statement\": \"{\\\"Sid\\\":\\\"03e827d2-c823-5826-83c9-3ca0380917e8\\\",\\\"Effect\\\":\\\"Allow\\\",\\\"Principal\\\":{\\\"Service\\\":\\\"apigateway.amazonaws.com\\\"},\\\"Action\\\":\\\"lambda:InvokeFunction\\\",\\\"Resource\\\":\\\"arn:aws:lambda:us-west-2:364430515305:function:sagemaker-inference-test\\\",\\\"Condition\\\":{\\\"ArnLike\\\":{\\\"AWS:SourceArn\\\":\\\"arn:aws:execute-api:us-west-2:364430515305:djyoy2gtbj/*/*/predict\\\"}}}\"\n",
      "}\n"
     ]
    }
   ],
   "source": [
    "# %%bash\n",
    "# aws lambda add-permission \\\n",
    "#   --statement-id 03e827d2-c823-5826-83c9-3ca0380917e8 \\\n",
    "#   --action lambda:InvokeFunction \\\n",
    "#   --function-name \"arn:aws:lambda:us-west-2:364430515305:function:sagemaker-inference-test\" \\\n",
    "#   --principal apigateway.amazonaws.com \\\n",
    "#   --source-arn \"arn:aws:execute-api:us-west-2:364430515305:djyoy2gtbj/*/*/predict\""
   ]
  },
  {
   "cell_type": "code",
   "execution_count": 128,
   "id": "bbdb3852-e8f1-4fa4-ad0c-c800876c0ed1",
   "metadata": {},
   "outputs": [
    {
     "name": "stdout",
     "output_type": "stream",
     "text": [
      "https://6raxaoa7bd.execute-api.us-west-2.amazonaws.com v1 /predict\n"
     ]
    }
   ],
   "source": [
    "print(ApiEndpoint, StageName, RouteKey)"
   ]
  },
  {
   "cell_type": "code",
   "execution_count": 129,
   "id": "e48a5882-3a82-489a-8aa2-cba14ec2461b",
   "metadata": {},
   "outputs": [],
   "source": [
    "url = ApiEndpoint + '/' + StageName + RouteKey"
   ]
  },
  {
   "cell_type": "code",
   "execution_count": 130,
   "id": "d5758b07-4868-432d-9a39-a305ec84c88c",
   "metadata": {},
   "outputs": [
    {
     "data": {
      "text/plain": [
       "'https://6raxaoa7bd.execute-api.us-west-2.amazonaws.com/v1/predict'"
      ]
     },
     "execution_count": 130,
     "metadata": {},
     "output_type": "execute_result"
    }
   ],
   "source": [
    "url"
   ]
  },
  {
   "cell_type": "code",
   "execution_count": null,
   "id": "2db72827-7ea3-4bb1-a04c-e8b6f050f576",
   "metadata": {},
   "outputs": [],
   "source": []
  }
 ],
 "metadata": {
  "kernelspec": {
   "display_name": "Python 3 (ipykernel)",
   "language": "python",
   "name": "python3"
  },
  "language_info": {
   "codemirror_mode": {
    "name": "ipython",
    "version": 3
   },
   "file_extension": ".py",
   "mimetype": "text/x-python",
   "name": "python",
   "nbconvert_exporter": "python",
   "pygments_lexer": "ipython3",
   "version": "3.9.7"
  }
 },
 "nbformat": 4,
 "nbformat_minor": 5
}
