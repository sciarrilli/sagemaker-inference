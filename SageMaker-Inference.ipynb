{
 "cells": [
  {
   "cell_type": "markdown",
   "metadata": {},
   "source": [
    "# SageMaker Inference\n",
    "\n",
    "The purpose of this notebook is to show how inferences can be made against the SageMaker endpoint. This notebook will show three different ways to make predictions.\n",
    "\n",
    "1. Using the sagemaker client from the boto3 library \n",
    "2. Using API Gateway and Lambda\n",
    "3. Using flask\n",
    "\n",
    "## Prerequisite [VERY IMPORTANT - YOUR LAB WILL NOT WORK WITHOUT THIS]\n",
    "\n",
    "1. This notebook requires [Lab 2](https://sagemaker-immersionday.workshop.aws/en/lab2.html) from the SageMaker Immersion day has been completed and the SageMaker endpoint is running.\n",
    "\n",
    "2. You need to add IAM policy to the SageMaker studio user to be able to create API Gateway, Lambda, and IAM roles and policies. \n",
    "    a. Navigate to SageMaker Studio and look up the IAM role which is being used.\n",
    "    b. Navigate to IAM and search for the Role from step a.\n",
    "    c. Attach the AdministratorAccess managed policy to the role."
   ]
  },
  {
   "cell_type": "code",
   "execution_count": null,
   "metadata": {},
   "outputs": [],
   "source": [
    "import boto3\n",
    "import time\n",
    "import json\n",
    "import pandas as pd\n",
    "import numpy as np\n",
    "import zipfile\n",
    "import requests\n",
    "import sagemaker\n",
    "\n",
    "sess = sagemaker.Session()\n",
    "role = sagemaker.get_execution_role()\n",
    "bucket = sess.default_bucket()\n",
    "prefix = 'sagemaker/DEMO-xgboost-dm'\n",
    "test_path = f\"s3://{bucket}/{prefix}/test\"\n",
    "\n",
    "!aws s3 cp $test_path/test_x.csv /tmp/test_x.csv\n",
    "!aws s3 cp $test_path/test_y.csv /tmp/test_y.csv\n",
    "\n",
    "X_test = pd.read_csv('/tmp/test_x.csv', names=[f'{i}' for i in range(59)])\n",
    "y_test = pd.read_csv('/tmp/test_y.csv', names=['y'])\n",
    "\n",
    "pd.set_option('display.max_columns', 500)     # Make sure we can see all of the columns\n",
    "pd.set_option('display.max_rows', 20)  \n",
    "X_test.drop(X_test.columns[0], axis=1, inplace=True)\n",
    "X_test.head()"
   ]
  },
  {
   "cell_type": "markdown",
   "metadata": {},
   "source": [
    "## 🧠 1. Inference with boto3\n",
    "\n",
    "The sagemaker client from boto3 can be used to make predictions against a sagemaker endpoint. \n"
   ]
  },
  {
   "cell_type": "code",
   "execution_count": null,
   "metadata": {},
   "outputs": [],
   "source": [
    "sm_client = boto3.client('sagemaker')\n",
    "endpoint = sm_client.list_endpoints(SortBy='CreationTime')['Endpoints'][0]['EndpointName']\n",
    "print(f'endpoint name: {endpoint}')\n",
    "\n",
    "def make_prediction(X_test, y_test, row, endpoint=endpoint):\n",
    "    \n",
    "    # get individual row from dataframe and format as csv string\n",
    "    sample = X_test.iloc[row].values\n",
    "    sample = np.array2string(sample, separator=',')\n",
    "    sample = sample.strip('[').strip(']').lstrip(' ')\n",
    "    sample = sample.replace('\\n', '')\n",
    "    sample.encode('utf-8')\n",
    "    \n",
    "    # create sagemaker runtime client and invoke sagemaker endpoint\n",
    "    smr = boto3.client('sagemaker-runtime')\n",
    "    r = smr.invoke_endpoint(EndpointName=endpoint, Body=sample, ContentType='text/csv')\n",
    "    prediction = r['Body'].read().decode('utf-8')\n",
    "    prediction = float(prediction)\n",
    "    \n",
    "    # round to 4 decimal places\n",
    "    prediction = round(prediction, 4)\n",
    "    return prediction"
   ]
  },
  {
   "cell_type": "markdown",
   "metadata": {},
   "source": [
    "Let's make our first prediction"
   ]
  },
  {
   "cell_type": "code",
   "execution_count": null,
   "metadata": {},
   "outputs": [],
   "source": [
    "make_prediction(X_test, y_test, 260)"
   ]
  },
  {
   "cell_type": "markdown",
   "metadata": {},
   "source": [
    "Since the prediction is greater than 0.5 the model is predicting a 1. Let's check the label for sample 260. The label is also a 1 (customer will purchase a CD investment)."
   ]
  },
  {
   "cell_type": "code",
   "execution_count": null,
   "metadata": {},
   "outputs": [],
   "source": [
    "y_test.iloc[260].values"
   ]
  },
  {
   "cell_type": "markdown",
   "metadata": {},
   "source": [
    "### IAM Role and Policy for our Lambda\n",
    "\n",
    "In order to create a lambda function we must first create a lambda role with attached policies. This grants lambda the permissions it needs to call other AWS services."
   ]
  },
  {
   "cell_type": "code",
   "execution_count": null,
   "metadata": {},
   "outputs": [],
   "source": [
    "awsAccount = boto3.client('sts').get_caller_identity().get('Account')\n",
    "awsRegion = boto3.session.Session().region_name\n",
    "FunctionName = 'sagemaker-inference-xgboost'\n",
    "\n",
    "lambda_policy = {\n",
    "    \"Version\": \"2012-10-17\",\n",
    "    \"Statement\": [\n",
    "        {\n",
    "            \"Effect\": \"Allow\",\n",
    "            \"Action\": \"logs:CreateLogGroup\",\n",
    "            \"Resource\": None\n",
    "        },\n",
    "        {\n",
    "            \"Effect\": \"Allow\",\n",
    "            \"Action\": [\n",
    "                \"logs:CreateLogStream\",\n",
    "                \"logs:PutLogEvents\"\n",
    "            ],\n",
    "            \"Resource\": [\n",
    "                None\n",
    "            ]\n",
    "        },\n",
    "        {\n",
    "            \"Effect\": \"Allow\",\n",
    "            \"Action\": \"sagemaker:InvokeEndpoint\",\n",
    "            \"Resource\": None,\n",
    "        }\n",
    "    ]\n",
    "}\n",
    "\n",
    "lambda_policy['Statement'][0]['Resource'] = f'arn:aws:logs:{awsRegion}:{awsAccount}:*'\n",
    "lambda_policy['Statement'][1]['Resource'][0] = f'arn:aws:logs:{awsRegion}:{awsAccount}:log-group:/aws/lambda/{FunctionName}:*'\n",
    "lambda_policy['Statement'][2]['Resource'] = f'arn:aws:sagemaker:{awsRegion}:{awsAccount}:endpoint/{endpoint}'\n",
    "\n",
    "\n",
    "iam_client = boto3.client('iam')\n",
    "response = iam_client.create_policy(\n",
    "    PolicyName = 'boto3-lambda-policy',\n",
    "    PolicyDocument = json.dumps(lambda_policy)\n",
    ")\n",
    "\n",
    "\n",
    "policy_arn = response['Policy']['Arn']\n",
    "\n",
    "trust_json = {\n",
    "  \"Version\": \"2012-10-17\",\n",
    "  \"Statement\": [\n",
    "    {\n",
    "      \"Effect\": \"Allow\",\n",
    "      \"Principal\": {\n",
    "        \"Service\": [\n",
    "          \"lambda.amazonaws.com\",\n",
    "          \"sagemaker.amazonaws.com\"\n",
    "        ]\n",
    "      },\n",
    "      \"Action\": \"sts:AssumeRole\"\n",
    "    }\n",
    "  ]\n",
    "}\n",
    "\n",
    "role_name = 'boto3-lambda-role'\n",
    "\n",
    "role_response = iam_client.create_role(\n",
    "    RoleName=role_name,\n",
    "    AssumeRolePolicyDocument=json.dumps(trust_json),\n",
    "    Description='This is a test role',\n",
    ")\n",
    "\n",
    "\n",
    "role_arn = role_response['Role']['Arn']\n",
    "\n",
    "attach_response = iam_client.attach_role_policy(\n",
    "    RoleName=role_name,\n",
    "    PolicyArn=policy_arn\n",
    ")\n"
   ]
  },
  {
   "cell_type": "markdown",
   "metadata": {
    "tags": []
   },
   "source": [
    "### Lambda Setup\n",
    "\n",
    "We are writing our lambda to a file, then zipping the file, and creating our lambda function with the zip. "
   ]
  },
  {
   "cell_type": "code",
   "execution_count": null,
   "metadata": {},
   "outputs": [],
   "source": [
    "%%writefile sagemaker_inference_function.py\n",
    "\n",
    "import json\n",
    "import boto3\n",
    "\n",
    "smr = boto3.client('sagemaker-runtime')\n",
    "\n",
    "def lambda_handler(event, context):\n",
    "    \n",
    "    # check event type and print event\n",
    "    print(f'event data type: {type(event)}')\n",
    "    print(event)\n",
    "    \n",
    "    # grab body and convert to dict\n",
    "    body = json.loads(event['body'])\n",
    "    \n",
    "    # encode the sample to bytes\n",
    "    data = body['data'].encode('utf-8')\n",
    "    \n",
    "    # check data types\n",
    "    print(f'body data type: {type(body)}')\n",
    "    print(body)\n",
    "\n",
    "    print(f'data data type: {type(data)}')\n",
    "    print(data)\n",
    "\n",
    "    # make prediction on sagemaker endpoint\n",
    "    r = smr.invoke_endpoint(EndpointName='MyEndPoint', Body=data, ContentType='text/csv')\n",
    "    prediction = r['Body'].read().decode('utf-8')\n",
    "    print(prediction)\n",
    "    response = {'prediction': prediction}\n",
    "    \n",
    "    # return prediction in body\n",
    "    return {\n",
    "        'statusCode': 200,\n",
    "        'body': json.dumps(response)\n",
    "    }\n"
   ]
  },
  {
   "cell_type": "code",
   "execution_count": null,
   "metadata": {},
   "outputs": [],
   "source": [
    "!sed -i 's/MyEndPoint/'$endpoint'/g' sagemaker_inference_function.py"
   ]
  },
  {
   "cell_type": "code",
   "execution_count": null,
   "metadata": {},
   "outputs": [],
   "source": [
    "with zipfile.ZipFile('sm-inference-package.zip', 'w') as z:\n",
    "    z.write('sagemaker_inference_function.py')"
   ]
  },
  {
   "cell_type": "code",
   "execution_count": null,
   "metadata": {},
   "outputs": [],
   "source": [
    "lambda_client = boto3.client('lambda')\n",
    "\n",
    "ZIPNAME = \"sm-inference-package.zip\"\n",
    "\n",
    "\n",
    "def aws_file():\n",
    "    with open(ZIPNAME, 'rb') as file_data:\n",
    "        bytes_content = file_data.read()\n",
    "    return bytes_content\n",
    "\n",
    "\n",
    "FunctionName = 'sagemaker-inference-xgboost'\n",
    "\n",
    "time.sleep(15)\n",
    "\n",
    "response = lambda_client.create_function(Code={'ZipFile': aws_file()},\n",
    "                                         Description='sagemaker immersion day',\n",
    "                                         FunctionName=FunctionName,\n",
    "                                         Handler='sagemaker_inference_function.lambda_handler',\n",
    "                                         Publish=True,\n",
    "                                         Role=role_arn,\n",
    "                                         Runtime='python3.9')\n",
    "\n",
    "IntegrationUri = response['FunctionArn']\n",
    "IntegrationUri"
   ]
  },
  {
   "cell_type": "markdown",
   "metadata": {},
   "source": [
    "### Lambda test event\n",
    "\n",
    "If you want to verify the lambda is working properly you can setup a test event by copying the following json into a lambda test:\n",
    "\n",
    "```json\n",
    "{\n",
    "  \"version\": \"2.0\",\n",
    "  \"routeKey\": \"POST /predict\",\n",
    "  \"rawPath\": \"/predict\",\n",
    "  \"rawQueryString\": \"\",\n",
    "  \"headers\": {\n",
    "    \"accept\": \"*/*\",\n",
    "    \"accept-encoding\": \"gzip, deflate, br\",\n",
    "    \"cache-control\": \"no-cache\",\n",
    "    \"content-length\": \"127\",\n",
    "    \"content-type\": \"text/csv\",\n",
    "    \"host\": \"8fpcmkyo88.execute-api.us-west-2.amazonaws.com\",\n",
    "    \"postman-token\": \"2c03b0e2-3f21-434b-879d-c7a7d7ff7633\",\n",
    "    \"user-agent\": \"PostmanRuntime/7.28.4\",\n",
    "    \"x-amzn-trace-id\": \"Root=1-614e5cb1-59e2e394227dfc3213740435\",\n",
    "    \"x-forwarded-for\": \"54.86.50.139\",\n",
    "    \"x-forwarded-port\": \"443\",\n",
    "    \"x-forwarded-proto\": \"https\"\n",
    "  },\n",
    "  \"requestContext\": {\n",
    "    \"accountId\": \"364430515305\",\n",
    "    \"apiId\": \"8fpcmkyo88\",\n",
    "    \"domainName\": \"8fpcmkyo88.execute-api.us-west-2.amazonaws.com\",\n",
    "    \"domainPrefix\": \"8fpcmkyo88\",\n",
    "    \"http\": {\n",
    "      \"method\": \"POST\",\n",
    "      \"path\": \"/predict\",\n",
    "      \"protocol\": \"HTTP/1.1\",\n",
    "      \"sourceIp\": \"54.86.50.139\",\n",
    "      \"userAgent\": \"PostmanRuntime/7.28.4\"\n",
    "    },\n",
    "    \"requestId\": \"GMNryjUfvHcEMjA=\",\n",
    "    \"routeKey\": \"POST /predict\",\n",
    "    \"stage\": \"$default\",\n",
    "    \"time\": \"24/Sep/2021:23:18:09 +0000\",\n",
    "    \"timeEpoch\": 1632525489647\n",
    "  },\n",
    "  \"body\": \"{\\\"data\\\": \\\"3,3,3,0,0,0,0,0,0,1,0,0,0,0,0,0,0,0,1,0,0,0,0,0,0,0,0,1,0,1,0,0,0,0,1,1,0,0,1,0,0,0,0,0,0,0,1,0,0,0,1,0,0,0,0,0,0,1\\\"}\",\n",
    "  \"isBase64Encoded\": false\n",
    "}\n",
    "```"
   ]
  },
  {
   "cell_type": "markdown",
   "metadata": {
    "tags": []
   },
   "source": [
    "### Create API Gateway\n",
    "\n",
    "The last component is to create an API Gateway to proxy our lambda function and handle public http requests and responses."
   ]
  },
  {
   "cell_type": "code",
   "execution_count": null,
   "metadata": {},
   "outputs": [],
   "source": [
    "def create_apigateway(Name='sagemaker-inference-xgboost', IntegrationUri=IntegrationUri):\n",
    "    api_client = boto3.client('apigatewayv2')\n",
    "    response = api_client.create_api(Name=Name, ProtocolType='HTTP')\n",
    "    ApiEndpoint = response['ApiEndpoint']\n",
    "    ApiId = response['ApiId']\n",
    "    \n",
    "    response = api_client.create_integration(ApiId=ApiId, \n",
    "                                         IntegrationType='AWS_PROXY', \n",
    "                                         IntegrationUri=IntegrationUri,\n",
    "                                         PayloadFormatVersion='2.0')\n",
    "    Target = response['IntegrationId']\n",
    "    IntegrationId = response['IntegrationId']\n",
    "    \n",
    "    response = api_client.create_route(ApiId=ApiId, RouteKey='POST /predict', Target='integrations/'+Target)\n",
    "    RouteKey = response['RouteKey'].split()[1]\n",
    "    \n",
    "    response = api_client.create_stage(ApiId=ApiId, StageName='v1')\n",
    "    StageName = response['StageName']\n",
    "    \n",
    "    response = api_client.get_integration(ApiId=ApiId, IntegrationId=IntegrationId)\n",
    "    SourceArn = f'arn:aws:execute-api:{awsRegion}:{awsAccount}:' + ApiId + '/*/*/predict'\n",
    "    \n",
    "    lambda_client = boto3.client('lambda')\n",
    "    response = lambda_client.add_permission(FunctionName=FunctionName, \n",
    "                                            StatementId='1',\n",
    "                                            Action='lambda:InvokeFunction',\n",
    "                                            Principal='apigateway.amazonaws.com',\n",
    "                                            SourceArn=SourceArn)\n",
    "    response = api_client.create_deployment(ApiId=ApiId, StageName=StageName)\n",
    "    \n",
    "    url = ApiEndpoint + '/' + StageName + RouteKey\n",
    "    return url, ApiId\n",
    "\n",
    "\n",
    "url, ApiId = create_apigateway()\n",
    "url"
   ]
  },
  {
   "cell_type": "markdown",
   "metadata": {},
   "source": [
    "## 🧠 2. Inference with API Gateway and Lambda\n",
    "\n",
    "In this example we setup an API Gateway with Lambda to make access to our SageMaker endpoint publicly available. This can be secured in a number of ways. We could add autorization to API Gateway as one option."
   ]
  },
  {
   "cell_type": "code",
   "execution_count": null,
   "metadata": {},
   "outputs": [],
   "source": [
    "# helper function to get a single row from test dataframe\n",
    "def get_sample(X_test, row):\n",
    "    sample = X_test.iloc[row].values\n",
    "    sample = np.array2string(sample, separator=',')\n",
    "    sample = sample.strip('[').strip(']').lstrip(' ')\n",
    "    sample = sample.replace('\\n', '')\n",
    "    sample = sample.replace(' ', '')\n",
    "    return sample\n",
    "\n",
    "payload = {'data': get_sample(X_test, 260)}\n",
    "print(payload)\n",
    "\n",
    "r = requests.post(url, json=payload)\n",
    "r.text"
   ]
  },
  {
   "cell_type": "markdown",
   "metadata": {},
   "source": [
    "## Flask Example\n",
    "\n",
    "For this example we need to get the id of the default VPC. We will then create a security group which allows port 5000 and then launch and instance to run flask. Our sample flask app is available [here](https://raw.githubusercontent.com/sciarrilli/flask-sagemaker-inference/main/flask-app.py)."
   ]
  },
  {
   "cell_type": "code",
   "execution_count": null,
   "metadata": {},
   "outputs": [],
   "source": [
    "response['Vpcs'][0]['VpcId']"
   ]
  },
  {
   "cell_type": "code",
   "execution_count": null,
   "metadata": {},
   "outputs": [],
   "source": [
    "ec2_client = boto3.client('ec2')\n",
    "response = ec2_client.describe_vpcs()\n",
    "for vpc in response['Vpcs']:\n",
    "    if len(response['Vpcs']) == 1:\n",
    "        vpc_id = vpc['VpcId']\n",
    "        print(f'vpc_id = {vpc_id}')\n",
    "    elif vpc['Tags'][0]['Key'] == 'Name' and vpc['Tags'][0]['Value'] == 'default':\n",
    "        vpc_id = vpc['VpcId']\n",
    "        print(f'vpc_id = {vpc_id}')\n",
    "\n",
    "        "
   ]
  },
  {
   "cell_type": "code",
   "execution_count": null,
   "metadata": {},
   "outputs": [],
   "source": [
    "response = ec2_client.create_security_group(GroupName='flask-sagemaker-sg',\n",
    "                                     Description='flask-sagemaker-sg',\n",
    "                                     VpcId=vpc_id)\n",
    "security_group_id = response['GroupId']\n",
    "print('Security Group Created %s in vpc %s.' % (security_group_id, vpc_id))\n",
    "\n",
    "data = ec2_client.authorize_security_group_ingress(\n",
    "    GroupId=security_group_id,\n",
    "    IpPermissions=[\n",
    "        {'IpProtocol': 'tcp',\n",
    "         'FromPort': 5000,\n",
    "         'ToPort': 5000,\n",
    "         'IpRanges': [{'CidrIp': '0.0.0.0/0'}]},\n",
    "        {'IpProtocol': 'tcp',\n",
    "         'FromPort': 22,\n",
    "         'ToPort': 22,\n",
    "         'IpRanges': [{'CidrIp': '0.0.0.0/0'}]}\n",
    "    ])\n",
    "\n",
    "security_group_id"
   ]
  },
  {
   "cell_type": "code",
   "execution_count": null,
   "metadata": {},
   "outputs": [],
   "source": [
    "if awsRegion == 'us-west-2':\n",
    "    image_id = 'ami-0c2d06d50ce30b442'\n",
    "elif awsRegion == 'us-east-1':\n",
    "    image_id = 'ami-087c17d1fe0178315'\n",
    "\n",
    "image_id\n",
    "\n",
    "endpoint_arn = sm_client.list_endpoints(SortBy='CreationTime')['Endpoints'][0]['EndpointArn']\n",
    "endpoint_arn\n",
    "\n",
    "ec2_policy = {\n",
    "    \"Version\": \"2012-10-17\",\n",
    "    \"Statement\": [\n",
    "        {\n",
    "            \"Sid\": \"VisualEditor0\",\n",
    "            \"Effect\": \"Allow\",\n",
    "            \"Action\": \"sagemaker:InvokeEndpoint\",\n",
    "            \"Resource\": None\n",
    "        }\n",
    "    ]\n",
    "}\n",
    "ec2_policy['Statement'][0]['Resource'] = endpoint_arn\n",
    "\n",
    "response = iam_client.create_policy(\n",
    "    PolicyName = 'SageMakerInvokePolicy',\n",
    "    PolicyDocument = json.dumps(ec2_policy)\n",
    ")\n",
    "\n",
    "policy_arn = response['Policy']['Arn']\n",
    "\n",
    "ec2_trust = {\n",
    "  \"Version\": \"2012-10-17\",\n",
    "  \"Statement\": [\n",
    "    {\n",
    "      \"Effect\": \"Allow\",\n",
    "      \"Principal\": {\n",
    "        \"Service\": \"ec2.amazonaws.com\"\n",
    "      },\n",
    "      \"Action\": \"sts:AssumeRole\"\n",
    "    }\n",
    "  ]\n",
    "}\n",
    "\n",
    "role_name = 'EC2-SageMaker-Invoke-Role'\n",
    "\n",
    "role_response = iam_client.create_role(\n",
    "    RoleName=role_name,\n",
    "    AssumeRolePolicyDocument=json.dumps(ec2_trust)\n",
    ")\n",
    "\n",
    "\n",
    "role_arn = role_response['Role']['Arn']\n",
    "\n",
    "attach_response = iam_client.attach_role_policy(\n",
    "    RoleName=role_name,\n",
    "    PolicyArn=policy_arn\n",
    ")\n",
    "\n",
    "response = iam_client.create_instance_profile(\n",
    "    InstanceProfileName=role_name\n",
    ")\n",
    "\n",
    "\n",
    "response = iam_client.add_role_to_instance_profile(\n",
    "    InstanceProfileName=role_name,\n",
    "    RoleName=role_name\n",
    ")\n",
    "response"
   ]
  },
  {
   "cell_type": "code",
   "execution_count": null,
   "metadata": {},
   "outputs": [],
   "source": [
    "user_data = f'''#!/bin/bash\n",
    "echo 'test' > /tmp/hello\n",
    "yum update -y\n",
    "yum install python3 python3-pip tmux htop -y\n",
    "pip3 install flask boto3\n",
    "wget https://raw.githubusercontent.com/sciarrilli/flask-sagemaker-inference/main/flask-app.py\n",
    "\n",
    "ls\n",
    "pwd\n",
    "sed -i 's/MyEndPoint/{endpoint}/g' flask-app.py\n",
    "sed -i 's/awsRegion/{awsRegion}/g' flask-app.py\n",
    "\n",
    "tmux new-session -d -s flask-session\n",
    "tmux send-keys 'python3 flask-app.py' C-m\n",
    "tmux detach -s flask-session'''"
   ]
  },
  {
   "cell_type": "code",
   "execution_count": null,
   "metadata": {},
   "outputs": [],
   "source": [
    "instances = ec2_client.run_instances(\n",
    "    ImageId=image_id,\n",
    "    MinCount=1,\n",
    "    MaxCount=1,\n",
    "    InstanceType=\"t3.medium\",\n",
    "    UserData=user_data,\n",
    "    SecurityGroupIds=[security_group_id],\n",
    "    KeyName='macos',\n",
    "    IamInstanceProfile={\n",
    "        'Name': role_name\n",
    "    },\n",
    "    TagSpecifications=[\n",
    "    {\n",
    "        'ResourceType': 'instance',\n",
    "        'Tags': [\n",
    "            {\n",
    "                'Key': 'Name',\n",
    "                'Value': 'flask-sagemaker-inference'\n",
    "            },\n",
    "        ]\n",
    "    },\n",
    "])\n",
    "\n",
    "InstanceId = instances['Instances'][0]['InstanceId']\n",
    "\n"
   ]
  },
  {
   "cell_type": "code",
   "execution_count": null,
   "metadata": {},
   "outputs": [],
   "source": [
    "time.sleep(15)\n",
    "response = ec2_client.describe_instances(\n",
    "    InstanceIds=[\n",
    "        InstanceId,\n",
    "    ]\n",
    ")\n",
    "\n",
    "flask_ip = response['Reservations'][0]['Instances'][0]['PublicIpAddress']\n",
    "flask_ip"
   ]
  },
  {
   "cell_type": "code",
   "execution_count": null,
   "metadata": {},
   "outputs": [],
   "source": [
    "sample260 = get_sample(X_test, 260)\n",
    "sample260"
   ]
  },
  {
   "cell_type": "markdown",
   "metadata": {},
   "source": [
    "### 🗒️ Note: The ec2 instances takes 2 minutes for flask to be available"
   ]
  },
  {
   "cell_type": "code",
   "execution_count": null,
   "metadata": {},
   "outputs": [],
   "source": [
    "time.sleep(120)"
   ]
  },
  {
   "cell_type": "markdown",
   "metadata": {},
   "source": [
    "## 🧠 3. Inference with Flask\n",
    "\n",
    "For the third example we setup an ec2 instance which is running a basic flask API to receive http POST methods and send the request to the SageMaker endpoint for a prediction from our hosted XGBoost model."
   ]
  },
  {
   "cell_type": "code",
   "execution_count": null,
   "metadata": {},
   "outputs": [],
   "source": [
    "%%bash -s \"$flask_ip\" \"$sample260\"\n",
    "curl -s --location --request POST \"http://$1:5000/pred\" \\\n",
    "--header 'Content-Type: application/json' \\\n",
    "--data-raw \"{\\\"data\\\": \\\"$2\\\"}\""
   ]
  },
  {
   "cell_type": "markdown",
   "metadata": {},
   "source": [
    "#### sample curl"
   ]
  },
  {
   "cell_type": "code",
   "execution_count": null,
   "metadata": {},
   "outputs": [],
   "source": [
    "# curl --location --request POST 'http://localhost:5000/pred' \\\n",
    "#                          --header 'Content-Type: application/json' \\\n",
    "#                          --data-raw '{\n",
    "#                          \"data\": \"3,3,3,0,0,0,0,0,0,1,0,0,0,0,0,0,0,0,1,0,0,0,0,0,0,0,0,1,0,1,0,0,0,0,1,1,0,0,1,0,0,0,0,0,0,0,1,0,0,0,1,0,0,0,0,0,0,1\"\n",
    "#                      }'"
   ]
  },
  {
   "cell_type": "markdown",
   "metadata": {},
   "source": [
    "# THE END\n",
    "\n",
    "---"
   ]
  },
  {
   "cell_type": "markdown",
   "metadata": {},
   "source": [
    "## Clean up"
   ]
  },
  {
   "cell_type": "code",
   "execution_count": null,
   "metadata": {},
   "outputs": [],
   "source": [
    "_ = lambda_client.delete_function(\n",
    "    FunctionName=FunctionName\n",
    ")\n",
    "\n",
    "\n",
    "api_client = boto3.client('apigatewayv2')\n",
    "_ = api_client.delete_api(\n",
    "    ApiId=ApiId\n",
    ")\n",
    "\n",
    "\n",
    "_ = ec2_client.terminate_instances(\n",
    "    InstanceIds=[\n",
    "        InstanceId,\n",
    "    ]\n",
    ")\n",
    "\n",
    "\n",
    "_ = iam_client.detach_role_policy(\n",
    "    RoleName=role_name,\n",
    "    PolicyArn=policy_arn\n",
    ")\n",
    "\n",
    "\n",
    "_ = iam_client.delete_policy(\n",
    "    PolicyArn=policy_arn\n",
    ")\n",
    "\n",
    "\n",
    "_ = iam_client.delete_role(\n",
    "    RoleName=role_name\n",
    ")\n",
    "\n",
    "time.sleep(120)\n",
    "_ = ec2_client.delete_security_group(\n",
    "    GroupId=security_group_id\n",
    ")\n",
    "_"
   ]
  }
 ],
 "metadata": {
  "instance_type": "ml.t3.medium",
  "kernelspec": {
   "display_name": "Python 3 (Data Science)",
   "language": "python",
   "name": "python3__SAGEMAKER_INTERNAL__arn:aws:sagemaker:us-east-1:081325390199:image/datascience-1.0"
  },
  "language_info": {
   "codemirror_mode": {
    "name": "ipython",
    "version": 3
   },
   "file_extension": ".py",
   "mimetype": "text/x-python",
   "name": "python",
   "nbconvert_exporter": "python",
   "pygments_lexer": "ipython3",
   "version": "3.7.10"
  }
 },
 "nbformat": 4,
 "nbformat_minor": 5
}
